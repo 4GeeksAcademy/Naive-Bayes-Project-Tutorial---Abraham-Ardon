{
    "cells": [
        {
            "cell_type": "markdown",
            "metadata": {},
            "source": [
                "# Explore here"
            ]
        },
        {
            "cell_type": "code",
            "execution_count": null,
            "metadata": {},
            "outputs": [],
            "source": [
                "# Your code here\n",
                "\n",
                "import pandas as pd\n",
                "from sklearn.model_selection import train_test_split\n",
                "from sklearn.feature_extraction.text import CountVectorizer\n",
                "from sklearn.naive_bayes import MultinomialNB, BernoulliNB, GaussianNB\n",
                "from sklearn.metrics import accuracy_score\n",
                "from sklearn.ensemble import RandomForestClassifier\n",
                "\n",
                "url = \"https://raw.githubusercontent.com/4GeeksAcademy/naive-bayes-project-tutorial/main/playstore_reviews.csv\"\n",
                "data = pd.read_csv(url)\n",
                "\n",
                "\n",
                "data = data.drop(columns=[\"package_name\"])\n",
                "\n",
                "\n",
                "data[\"review\"] = data[\"review\"].str.strip().str.lower()"
            ]
        },
        {
            "cell_type": "code",
            "execution_count": 17,
            "metadata": {},
            "outputs": [],
            "source": [
                "from sklearn.model_selection import train_test_split\n",
                "from sklearn.feature_extraction.text import TfidfVectorizer\n",
                "\n",
                "X = data[\"review\"]      \n",
                "y = data[\"polarity\"]     \n",
                "\n",
                "X_train, X_test, y_train, y_test = train_test_split(X, y, test_size=0.2, random_state=42)\n",
                "\n",
                "vec_model = TfidfVectorizer(stop_words=\"english\")\n",
                "X_train = vec_model.fit_transform(X_train).toarray()\n",
                "X_test = vec_model.transform(X_test).toarray()"
            ]
        },
        {
            "cell_type": "code",
            "execution_count": 18,
            "metadata": {},
            "outputs": [
                {
                    "data": {
                        "text/plain": [
                            "0      privacy at least put some option appear offlin...\n",
                            "1      messenger issues ever since the last update, i...\n",
                            "2      profile any time my wife or anybody has more t...\n",
                            "3      the new features suck for those of us who don'...\n",
                            "4      forced reload on uploading pic on replying com...\n",
                            "                             ...                        \n",
                            "886    loved it i loooooooooooooovvved it because it ...\n",
                            "887    all time legendary game the birthday party lev...\n",
                            "888    ads are way to heavy listen to the bad reviews...\n",
                            "889    fun works perfectly well. ads aren't as annoyi...\n",
                            "890    they're everywhere i see angry birds everywher...\n",
                            "Name: review, Length: 891, dtype: object"
                        ]
                    },
                    "execution_count": 18,
                    "metadata": {},
                    "output_type": "execute_result"
                }
            ],
            "source": [
                "X"
            ]
        },
        {
            "cell_type": "code",
            "execution_count": 19,
            "metadata": {},
            "outputs": [
                {
                    "data": {
                        "text/plain": [
                            "0      0\n",
                            "1      0\n",
                            "2      0\n",
                            "3      0\n",
                            "4      0\n",
                            "      ..\n",
                            "886    1\n",
                            "887    1\n",
                            "888    0\n",
                            "889    1\n",
                            "890    1\n",
                            "Name: polarity, Length: 891, dtype: int64"
                        ]
                    },
                    "execution_count": 19,
                    "metadata": {},
                    "output_type": "execute_result"
                }
            ],
            "source": [
                "y"
            ]
        },
        {
            "cell_type": "code",
            "execution_count": 15,
            "metadata": {},
            "outputs": [
                {
                    "data": {
                        "text/plain": [
                            "array([[0, 0, 0, ..., 0, 0, 0],\n",
                            "       [0, 0, 0, ..., 0, 0, 0],\n",
                            "       [0, 0, 0, ..., 0, 0, 0],\n",
                            "       ...,\n",
                            "       [0, 0, 0, ..., 0, 0, 0],\n",
                            "       [0, 0, 0, ..., 0, 0, 0],\n",
                            "       [0, 0, 0, ..., 0, 0, 0]], shape=(712, 3310))"
                        ]
                    },
                    "execution_count": 15,
                    "metadata": {},
                    "output_type": "execute_result"
                }
            ],
            "source": [
                "X_train"
            ]
        },
        {
            "cell_type": "code",
            "execution_count": 16,
            "metadata": {},
            "outputs": [
                {
                    "data": {
                        "text/plain": [
                            "331    0\n",
                            "733    0\n",
                            "382    0\n",
                            "704    1\n",
                            "813    1\n",
                            "      ..\n",
                            "106    0\n",
                            "270    0\n",
                            "860    1\n",
                            "435    0\n",
                            "102    0\n",
                            "Name: polarity, Length: 712, dtype: int64"
                        ]
                    },
                    "execution_count": 16,
                    "metadata": {},
                    "output_type": "execute_result"
                }
            ],
            "source": [
                "y_train"
            ]
        },
        {
            "cell_type": "code",
            "execution_count": 20,
            "metadata": {},
            "outputs": [
                {
                    "name": "stdout",
                    "output_type": "stream",
                    "text": [
                        "MultinomialNB: 0.7988826815642458\n",
                        "BernoulliNB: 0.770949720670391\n",
                        "GaussianNB: 0.8100558659217877\n"
                    ]
                }
            ],
            "source": [
                "\n",
                "mnb = MultinomialNB()\n",
                "mnb.fit(X_train, y_train)\n",
                "print(\"MultinomialNB:\", accuracy_score(y_test, mnb.predict(X_test)))\n",
                "\n",
                "\n",
                "bnb = BernoulliNB()\n",
                "bnb.fit(X_train, y_train)\n",
                "print(\"BernoulliNB:\", accuracy_score(y_test, bnb.predict(X_test)))\n",
                "\n",
                "\n",
                "gnb = GaussianNB()\n",
                "gnb.fit(X_train, y_train)\n",
                "print(\"GaussianNB:\", accuracy_score(y_test, gnb.predict(X_test)))"
            ]
        },
        {
            "cell_type": "code",
            "execution_count": 4,
            "metadata": {},
            "outputs": [
                {
                    "name": "stdout",
                    "output_type": "stream",
                    "text": [
                        "Random Forest: 0.7988826815642458\n"
                    ]
                }
            ],
            "source": [
                "rf = RandomForestClassifier(random_state=42)\n",
                "rf.fit(X_train, y_train)\n",
                "print(\"Random Forest:\", accuracy_score(y_test, rf.predict(X_test)))"
            ]
        },
        {
            "cell_type": "code",
            "execution_count": 5,
            "metadata": {},
            "outputs": [
                {
                    "data": {
                        "text/plain": [
                            "['naive_bayes_sentiment_model.pkl']"
                        ]
                    },
                    "execution_count": 5,
                    "metadata": {},
                    "output_type": "execute_result"
                }
            ],
            "source": [
                "import joblib\n",
                "joblib.dump(mnb, \"naive_bayes_sentiment_model.pkl\")"
            ]
        },
        {
            "cell_type": "code",
            "execution_count": 11,
            "metadata": {},
            "outputs": [
                {
                    "data": {
                        "text/plain": [
                            "331    0\n",
                            "733    0\n",
                            "382    0\n",
                            "704    1\n",
                            "813    1\n",
                            "      ..\n",
                            "106    0\n",
                            "270    0\n",
                            "860    1\n",
                            "435    0\n",
                            "102    0\n",
                            "Name: polarity, Length: 712, dtype: int64"
                        ]
                    },
                    "execution_count": 11,
                    "metadata": {},
                    "output_type": "execute_result"
                }
            ],
            "source": [
                "X_test\n",
                "X_train\n",
                "y_test\n",
                "y_train"
            ]
        }
    ],
    "metadata": {
        "kernelspec": {
            "display_name": "Python 3",
            "language": "python",
            "name": "python3"
        },
        "language_info": {
            "codemirror_mode": {
                "name": "ipython",
                "version": 3
            },
            "file_extension": ".py",
            "mimetype": "text/x-python",
            "name": "python",
            "nbconvert_exporter": "python",
            "pygments_lexer": "ipython3",
            "version": "3.11.4"
        },
        "orig_nbformat": 4
    },
    "nbformat": 4,
    "nbformat_minor": 2
}
